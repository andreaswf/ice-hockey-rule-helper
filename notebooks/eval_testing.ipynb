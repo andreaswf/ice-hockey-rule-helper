{
 "cells": [
  {
   "cell_type": "code",
   "execution_count": 215,
   "id": "6d5791e6",
   "metadata": {},
   "outputs": [
    {
     "data": {
      "text/plain": [
       "True"
      ]
     },
     "execution_count": 215,
     "metadata": {},
     "output_type": "execute_result"
    }
   ],
   "source": [
    "import os\n",
    "import re\n",
    "\n",
    "from langchain.chat_models import init_chat_model\n",
    "from langchain_core.messages import HumanMessage, SystemMessage\n",
    "from langchain_core.prompts import ChatPromptTemplate\n",
    "from langchain_community.document_loaders import PyPDFLoader, PDFMinerLoader\n",
    "from langchain_text_splitters import RecursiveCharacterTextSplitter\n",
    "from langchain.schema import Document\n",
    "from langchain_core.runnables import RunnablePassthrough, RunnableLambda\n",
    "from langchain_core.output_parsers import StrOutputParser\n",
    "from langchain.retrievers.multi_query import MultiQueryRetriever\n",
    "\n",
    "from langsmith import traceable\n",
    "\n",
    "from ragas import EvaluationDataset\n",
    "import json\n",
    "import pandas as pd\n",
    "\n",
    "# openAI embeddings\n",
    "from langchain_openai.embeddings import OpenAIEmbeddings\n",
    "\n",
    "# vector store\n",
    "from langchain_community.docstore.in_memory import InMemoryDocstore\n",
    "from langchain_community.vectorstores import FAISS\n",
    "\n",
    "# load api keys\n",
    "from dotenv import load_dotenv\n",
    "load_dotenv()"
   ]
  },
  {
   "cell_type": "code",
   "execution_count": 216,
   "id": "6b2e2652",
   "metadata": {},
   "outputs": [],
   "source": [
    "#load document\n",
    "file = \"../documents/2025-26_iihf_rulebook.pdf\"\n",
    "loader = PyPDFLoader(file)\n",
    "docs = loader.load()\n",
    "\n",
    "#drop TOC and appendix\n",
    "docs_cropped = docs[15:160]\n",
    "\n",
    "# sticth docs back together\n",
    "parts = []\n",
    "for i, d in enumerate(docs_cropped, start=1):\n",
    "    parts.append(f\"\\n\\n<<<PAGE {i}>>>\\n{d.page_content.strip()}\")\n",
    "\n",
    "merged_text = \"\".join(parts)\n",
    "\n",
    "# Create a Document and update metadata\n",
    "merged_doc = [Document(\n",
    "    page_content=merged_text,\n",
    "    metadata={\n",
    "        \"source\": \"IIHF Rulebook 2025-26\",\n",
    "        \"page_count\": len(docs_cropped),\n",
    "    }\n",
    ")]\n"
   ]
  },
  {
   "cell_type": "code",
   "execution_count": null,
   "id": "49a00ea3",
   "metadata": {},
   "outputs": [
    {
     "name": "stdout",
     "output_type": "stream",
     "text": [
      "93\n",
      "604\n"
     ]
    }
   ],
   "source": [
    "# for spltting\n",
    "main_rule_re = r\"RULE[ \\u00A0]+(?P<main_id>\\d{1,3})[ \\u00A0]+(?P<main_name>[A-Z-']+(?:[ \\u00A0][A-Z-']+)*)\"\n",
    "sub_rule_re = r\"(?P<sub_id>\\d{1,3}\\.\\d{1,2})[.\\u00A0 ]*[ \\u00A0]+(?P<sub_name>[A-Z-']+(?:[ \\u00A0][A-Z-']+)*)\"\n",
    "\n",
    "\n",
    "# for metadata\n",
    "MAIN_RE = re.compile(main_rule_re)\n",
    "SUB_RE = re.compile(sub_rule_re)\n",
    "\n",
    "\n",
    "def normalize_ocr(text: str) -> str:\n",
    "    # collapse weird spaces (regular + non-breaking)\n",
    "    text = re.sub(r\"[ \\u00A0]+\", \" \", text)\n",
    "\n",
    "    # fix error for 'penalty' which somtimes is 'penal ty'\n",
    "    text = re.sub(r\"\\bPENAL\\s*TY\\b\", \"PENALTY\", text)\n",
    "\n",
    "    return text\n",
    "\n",
    "\n",
    "\n",
    "#match regex pattern for metadata. Extracts main-rule, main-rule-id, main-rule-name. Same for sub-rule.\n",
    "def rule_metadata(doc):\n",
    "    doc.page_content = normalize_ocr(doc.page_content)\n",
    "    text = doc.page_content.lstrip()\n",
    "\n",
    "    m_main = MAIN_RE.search(text)\n",
    "    if m_main:\n",
    "        doc.metadata[\"main_rule\"] = f\"RULE {m_main['main_id']} {m_main['main_name'].strip()}\"\n",
    "        doc.metadata[\"main_rule_id\"] = m_main.group(\"main_id\")\n",
    "        doc.metadata[\"main_rule_name\"] = m_main.group(\"main_name\")\n",
    "\n",
    "    m_sub = SUB_RE.search(text)\n",
    "    if m_sub:\n",
    "        doc.metadata[\"sub_rule\"] = f\"{m_sub['sub_id']} {m_sub['sub_name'].strip()}\"\n",
    "        doc.metadata[\"sub_rule_id\"] = m_sub.group(\"sub_id\")\n",
    "        doc.metadata[\"sub_rule_name\"] = m_sub.group(\"sub_name\")\n",
    "\n",
    "    return doc\n",
    "\n",
    "\n",
    "# splits text by the rules given in the regex.\n",
    "def split_rule_text(docs, separator, chunk_size):\n",
    "    splitter = RecursiveCharacterTextSplitter(\n",
    "        add_start_index=True,\n",
    "        keep_separator=True,\n",
    "        is_separator_regex=True,\n",
    "        separators=[separator],\n",
    "        chunk_size=chunk_size,\n",
    "        chunk_overlap=0\n",
    "    )\n",
    "    chunks = splitter.split_documents(docs)\n",
    "    for chunk in chunks:\n",
    "        rule_metadata(chunk)\n",
    "        \n",
    "    return chunks\n",
    "\n",
    "    \n",
    "main_rule_split = split_rule_text(docs=merged_doc, separator=main_rule_re, chunk_size=4000)\n",
    "sub_rule_split = split_rule_text(docs=main_rule_split, separator=sub_rule_re, chunk_size=600)\n",
    "print(len(main_rule_split))\n",
    "print(len(sub_rule_split))\n",
    "\n",
    "\n",
    "\n",
    "#embeddings\n",
    "embeddings = OpenAIEmbeddings(model=\"text-embedding-3-large\")\n",
    "\n",
    "\n",
    "# vector store\n",
    "vectorstore = FAISS.from_documents(documents=sub_rule_split, embedding=embeddings)\n",
    "vectorstore.save_local(\"../vectorstore_old\")\n"
   ]
  },
  {
   "cell_type": "code",
   "execution_count": 232,
   "id": "01eeecde",
   "metadata": {},
   "outputs": [],
   "source": [
    "# Generation step\n",
    "\n",
    "# formatting for llm context\n",
    "def format_docs(docs):\n",
    "    parts = []\n",
    "    for doc in docs:\n",
    "        meta = {\n",
    "            \"main_rule_id\": doc.metadata.get(\"main_rule_id\", \"N/A\"),\n",
    "            \"main_rule_name\": doc.metadata.get(\"main_rule_name\", \"N/A\"),\n",
    "            \"sub_rule_id\": doc.metadata.get(\"sub_rule_id\", \"N/A\"),\n",
    "            \"sub_rule_name\": doc.metadata.get(\"sub_rule_name\", \"N/A\"),\n",
    "            \"source\": doc.metadata.get(\"source\", \"N/A\")\n",
    "        }\n",
    "        parts.append(f\"Metadata: {meta}\\n{doc.page_content.strip()}\")\n",
    "    return \"\\n\\n\".join(parts)\n",
    "\n",
    "\n",
    "# defineing the system template\n",
    "system_template = \"\"\"You are an ice hockey rule assistant.\n",
    "\n",
    "Follow these rules:\n",
    "- Answer ONLY using the provided context below. If the answer is unknown or not in the context, say \"I don't know\".\n",
    "- Use bulletpoints. After each bullet, include a citation using the metadata main rule and sub rule\n",
    "\n",
    "\n",
    "Rule citation format:\n",
    "[<sub_rule_id> <main_rule_name> - <sub_rule_name>]\n",
    "\n",
    "\n",
    "Context (use only what is inside the markers):\n",
    "---\n",
    "{context}\n",
    "---\"\"\"\n",
    "\n",
    "# defining the prompt template\n",
    "prompt_template = ChatPromptTemplate.from_messages([\n",
    "    (\"system\", system_template),\n",
    "    (\"user\", \"Original question: {question}\"),\n",
    "])\n",
    "\n",
    "\n",
    "# retriever\n",
    "retriever = vectorstore.as_retriever(search_kwargs={\"k\": 6})\n",
    "\n",
    "# llm\n",
    "llm = init_chat_model(\"gpt-4o-mini\", model_provider=\"openai\", temperature=0)\n",
    "\n",
    "\n",
    "\n",
    "\n",
    "multi_query_system_template = \"\"\"You are an AI language model assistant. Your task is\n",
    "    to generate 3 different versions of the given user\n",
    "    question to retrieve relevant documents from a vector database.\n",
    "    By generating multiple perspectives on the user question,\n",
    "    your goal is to help the user overcome some of the limitations\n",
    "    of distance-based similarity search. Provide these alternative\n",
    "    questions separated by newlines. The questions are all about ice hockey.\n",
    "\"\"\"\n",
    "\n",
    "multi_query_prompt_template = ChatPromptTemplate.from_messages([\n",
    "    (\"system\", multi_query_system_template),\n",
    "    (\"user\", \"{question}\")\n",
    "])\n",
    "\n",
    "\n",
    "multi_retriever = MultiQueryRetriever.from_llm(retriever=retriever, llm=llm, include_original=True, prompt=multi_query_prompt_template)\n",
    "\n",
    "\n",
    "rag_chain = (\n",
    "    prompt_template\n",
    "    | llm\n",
    "    | StrOutputParser()\n",
    ")\n",
    "\n",
    "@traceable\n",
    "def rag_bot(question: str):\n",
    "    # retrieve\n",
    "    docs = retriever.invoke(question)\n",
    "    \n",
    "    # build context and format docs\n",
    "    context = format_docs(docs)\n",
    "    \n",
    "    # call rag_chain\n",
    "    answer = rag_chain.invoke({\"question\": question, \"context\": context})\n",
    "    \n",
    "    return {\"answer\": answer, \"documents\": docs}"
   ]
  },
  {
   "cell_type": "code",
   "execution_count": 233,
   "id": "5a973870",
   "metadata": {},
   "outputs": [],
   "source": [
    "# Set logging for the queries\n",
    "import logging\n",
    "\n",
    "logging.basicConfig()\n",
    "logging.getLogger(\"langchain.retrievers.multi_query\").setLevel(logging.INFO)"
   ]
  },
  {
   "cell_type": "code",
   "execution_count": 234,
   "id": "4c22663c",
   "metadata": {},
   "outputs": [],
   "source": [
    "# rag test\n",
    "result = rag_bot(\"If the puck is shot before the red line, is touched after the red line and the goalie freezes it, can the defensive team change?\")\n",
    "#result = rag_bot(\"When has a player cleared the zone during delayed offside?\")"
   ]
  },
  {
   "cell_type": "code",
   "execution_count": 237,
   "id": "1ebbb1d7",
   "metadata": {},
   "outputs": [
    {
     "name": "stdout",
     "output_type": "stream",
     "text": [
      "- The defending team shall not be permitted to make any Player substitutions prior to the “face-off” if the puck is shot into the end zone and the opposing goalkeeper freezes the puck. [81.1 ICING]\n",
      "- However, a team is permitted to make a Player substitution to replace an injured Player, or when a penalty has been assessed which affects the “on-ice strength” of either team. [82.1 LINE CHANGE] \n",
      "- Since the situation involves the goalkeeper freezing the puck, the defending team cannot change players before the face-off. [81.1 ICING]\n"
     ]
    },
    {
     "data": {
      "text/plain": [
       "[Document(id='1c63d403-fbfa-469e-8c2b-b2747d0376f0', metadata={'source': 'IIHF Rulebook 2025-26', 'page_count': 145, 'start_index': 8262, 'sub-rule': '63.1 DELAYING THE GAME', 'sub_rule_id': '63.1', 'sub_rule_name': 'DELAYING THE GAME'}, page_content='NO LINE CHANGE\\nIn the event the goal post is displaced accidentally by a defending Player causing a stoppage in play, the ensuing “face-off” shall \\nbe conducted at one of the end zone face-off spots in the defending zone. The offending team shall not be permitted to make any \\nPlayer substitutions prior to the “face-off”. However, a team shall be permitted to make a Player substitution to replace a goalkeeper \\nwho had been substituted for an extra attacker, to replace an injured Player, or when a penalty has been assessed which affects the \\n“on-ice strength” of either team.\\nIn the event the puck is shot into the end zone by the attacking team from their own side of the center line, and the opposing goal- \\nkeeper freezes the puck resulting in a stoppage of play, the ensuing “face-off” shall be conducted at one of the end zone face-off \\nspots in the goalkeeper’s defending zone. The defending team shall not be permitted to make any Player substitutions prior to the \\n“face-off”. However, a team shall be permitted to make a Player substitution to replace an injured Player, or when a penalty has been \\nassessed which affects the “on-ice strength” of either team.\\nIn addition, for both situations outlined in this section, for the ensuing “face-off” in the defending zone, the attacking team will have\\nthe choice of which end zone face-off spot the “face-off” will take place.\\n'),\n",
       " Document(id='c788592b-2cd2-4427-ba06-ca0f0a4f9a67', metadata={'source': 'IIHF Rulebook 2025-26', 'page_count': 145, 'start_index': 3077, 'sub-rule': '81.1 ICING', 'sub_rule_id': '81.1', 'sub_rule_name': 'ICING'}, page_content='GOALKEEPER\\nIf, in the opinion of the Linesperson, the goalkeeper feigns playing the puck, attempts to play the puck, or skates in the direction of \\nthe puck on an icing at any time, the “potential icing” shall not be called, and play shall continue.\\nIf, however, a goalkeeper is legitimately out of the crease in an attempt to go to the Players’ bench to be substituted for an extra\\nattacker and in no way makes an attempt to play the puck, the “icing” should not be nullified under this section.\\nIf the goalkeeper is out of their crease prior to the shot being taken, and simply retreats to their crease making no attempt to play \\nthe puck or feign playing the puck, the “potential icing” shall remain in effect.\\n'),\n",
       " Document(id='22be7b0b-a23d-4c3f-b2fc-3e45ee223f2c', metadata={'source': 'IIHF Rulebook 2025-26', 'page_count': 145, 'start_index': 2386, 'sub-rule': '85.1 PUCK OUT OF BOUNDS', 'sub_rule_id': '85.1', 'sub_rule_name': 'PUCK OUT OF BOUNDS'}, page_content='PUCK UNPLAYABLE\\nWhen the puck becomes lodged in the netting on the outside of either goal so as to make it “unplayable”, or if it is “frozen” between \\nopposing Players intentionally or otherwise, the Referee shall stop the play.\\nThe puck may be played off the goal netting by either team. However, should the puck remain on the goal netting for more than three \\n(3) seconds, play shall be stopped.\\nShould the goalkeeper use their stick or glove to “freeze” the puck on the back of the net or should a defending Player shield an \\nattacking Player from playing the puck off the back of the net, the “face-off” shall take place at one of the face-off spots in the \\ndefending zone.\\nShould the puck go under the goal either from behind or the side, or through the mesh from behind or the side, if this is witnessed \\nby an On-Ice Official, play should be stopped immediately, and the ensuing “face-off” should take place at the nearest face-off spot \\nin the zone nearest to the location where the play was stopped.\\n'),\n",
       " Document(id='694adbc6-fdc5-4eb4-bbce-abbcb9a2fdb0', metadata={'source': 'IIHF Rulebook 2025-26', 'page_count': 145, 'start_index': -1, 'sub-rule': '82.1 LINE CHANGE', 'sub_rule_id': '82.1', 'sub_rule_name': 'LINE CHANGE'}, page_content='LINE CHANGE\\nFollowing the stoppage of play, the visiting team shall promptly place a line-up on the ice ready for play and no substitution shall be \\nmade from that time until play has been resumed. The home team may then make any desired substitution, except in cases follo -\\nwing an “icing”, which does not result in the delay of the game. \\n“Placing a line-up on the ice” shall mean that both teams shall place the full complement of Players (and not exceed) to which they \\nare entitled within the line change time frame.\\nIf there is any undue delay by either team in changing Players, the Referee shall order the offending team or teams to take their \\npositions immediately and not permit any further Player changes.\\nWhen a substitution has been made under the above rule, no additional substitution may be made until play commences. \\nOnce the line change procedure has been completed, no additional Player substitutions shall be permitted until the “face-off” has \\nbeen completed legally and play has resumed, except when a penalty or penalties are imposed that affect the “on-ice strength” of \\neither or both teams. This may include penalties imposed following the completion of the line change and prior to the “face-off”, or \\nIIHF OFFICIAL RULE BOOK 2025/26 – SECTION 10 139\\nGAME FLOW\\n10 SECTION · GAME FLOW\\n\\n<<<PAGE 125>>>\\nTABLE OF CONTENTS\\ndue to a penalty assessed for a “face-off” violation – refer to Rule 82.2 – Line Change – Procedure.\\nA team that is in violation of ➔ Rule 63.8 – Delaying the Game or ➔ Rule 81 – Icing, shall not be permitted to make any Player \\nsubstitutions prior to the ensuing “face-off”. However, a team shall be permitted to make a Player substitution to replace a goalkee-\\nper who had been substituted for an extra attacker, to replace an injured Player, or when a penalty has been assessed which affects \\nthe “on-ice strength” of either team. The determination of Players on ice will be made when the puck leaves the offending Player’s \\nstick.\\nGoalkeepers’ substitution during a game will be conducted within the same time frame as a regular line change. No extra time will \\nbe allotted to the goalkeeper coming off the bench, except in the case where an injury to a goalkeeper occurs.\\n'),\n",
       " Document(id='827b6acb-4384-46f9-b80e-bf052f75881b', metadata={'source': 'IIHF Rulebook 2025-26', 'page_count': 145, 'start_index': -1, 'sub-rule': '27.6 PARTICIPATING IN THE PLAY OVER THE CENTER RED LINE', 'sub_rule_id': '27.6', 'sub_rule_name': 'PARTICIPATING IN THE PLAY OVER THE CENTER RED LINE'}, page_content='27.6. PARTICIPATING IN THE PLAY OVER THE CENTER RED LINE27.6PARTICIPATING IN THE PLAY OVER THE CENTER RED LINE\\nIf a goalkeeper participates in the play in any manner (intentionally plays the puck or checks an opponent) when they are beyond the \\ncenter red line, a minor penalty shall be imposed upon them. The position of the puck is the determining factor for the application \\nof this rule.\\n27.7. GOALKEEPER RESTRICTED AREA27.7'),\n",
       " Document(id='9a39b912-6927-4cbb-838e-c01803e7c26c', metadata={'source': 'IIHF Rulebook 2025-26', 'page_count': 145, 'start_index': 15969, 'sub-rule': '76.1 FACE-OFF', 'sub_rule_id': '76.1', 'sub_rule_name': 'FACE-OFF'}, page_content='FACE-OFF PROCEDURE – LINE CHANGES\\nNo substitution of Players shall be permitted until the “face-off” has been completed and play has resumed except when a penalty \\nis imposed which affects the on-ice strength of either team.\\nShould an On-Ice Official notice that the defending team has not placed enough Players on the ice for the ensuing “face-off”, the \\nReferee in the neutral zone shall be notified and they will instruct the offending team to place another Player(s) on the ice. If, in the \\nopinion of the Referee that this is being done as a “stalling tactic”, they will issue a warning to the offending team’s Coach and any \\nsubsequent violations shall result in the assessment of a bench minor penalty for “Delay of Game”.\\nShould an On-Ice Official notice that the attacking team has not placed enough Players on the ice for the ensuing “face-off”, the Line- \\nsperson will proceed with conducting the “face-off” in the normal manner. The attacking team must ensure they put the appropriate \\nnumber of Players on the ice at all times.\\n')]"
      ]
     },
     "execution_count": 237,
     "metadata": {},
     "output_type": "execute_result"
    }
   ],
   "source": [
    "print(result.get('answer'))\n",
    "result.get('documents')"
   ]
  },
  {
   "cell_type": "code",
   "execution_count": null,
   "id": "83d19363",
   "metadata": {},
   "outputs": [],
   "source": [
    "#- No, the defensive team shall not be permitted to make any Player substitutions prior to the “face-off” in this situation. <63.1 DELAYING THE GAME> \n",
    "#- However, they can substitute a Player to replace an injured Player or when a penalty has been assessed which affects the “on-ice strength” of either team. <82.1 LINE CHANGE>"
   ]
  },
  {
   "cell_type": "markdown",
   "id": "98c9f16c",
   "metadata": {},
   "source": [
    "- A player has cleared the zone during a delayed off-side when both skates are off the ice and the Linesperson judges the player to have left the playing surface. <83.3 OFF-SIDE - DELAYED OFF-SIDE>\n",
    "- If their replacement comes onto the ice in the attacking zone while the delayed off-side is still in effect, they too must clear the attacking zone. <83.3 OFF-SIDE - DELAYED OFF-SIDE>"
   ]
  },
  {
   "cell_type": "code",
   "execution_count": 51,
   "id": "9e1b9f0a",
   "metadata": {},
   "outputs": [],
   "source": [
    "# setup data for ragas testing\n",
    "\n",
    "# load file\n",
    "test_questions = []\n",
    "with open(\"eval_questions.jsonl\", \"r\") as f:\n",
    "    for line in f:\n",
    "        test_questions.append(json.loads(line))\n",
    "             \n",
    "dataset = []\n",
    "for example in test_questions:\n",
    "    # extract from eval_questions\n",
    "    id = example.get('id')\n",
    "    question = example.get('question')\n",
    "    ground_truth = example.get('ground truth')\n",
    "    inner_rule = example.get('inner rule')\n",
    "    \n",
    "    # run the ragbot and get output answer\n",
    "    rag_bot_output = rag_bot(question)\n",
    "    answer = rag_bot_output.get('answer')\n",
    "    \n",
    "    # get context\n",
    "    docs = rag_bot_output.get('documents')\n",
    "    contexts = [doc.page_content for doc in docs]\n",
    "    \n",
    "    dataset.append({\n",
    "        \"user_input\": question,\n",
    "        \"retrieved_contexts\": contexts,\n",
    "        \"response\": answer,\n",
    "        \"reference\": ground_truth,\n",
    "    })\n",
    "\n",
    "    \n"
   ]
  },
  {
   "cell_type": "code",
   "execution_count": 52,
   "id": "ee536d08",
   "metadata": {},
   "outputs": [
    {
     "data": {
      "application/vnd.jupyter.widget-view+json": {
       "model_id": "503ba6782472418180affbb7e9b7c51d",
       "version_major": 2,
       "version_minor": 0
      },
      "text/plain": [
       "Evaluating:   0%|          | 0/63 [00:00<?, ?it/s]"
      ]
     },
     "metadata": {},
     "output_type": "display_data"
    },
    {
     "data": {
      "text/plain": [
       "{'context_recall': 0.8571, 'faithfulness': 0.7579, 'factual_correctness(mode=f1)': 0.6886}"
      ]
     },
     "execution_count": 52,
     "metadata": {},
     "output_type": "execute_result"
    }
   ],
   "source": [
    "from ragas import EvaluationDataset, evaluate\n",
    "from ragas.metrics import LLMContextRecall, Faithfulness, FactualCorrectness\n",
    "\n",
    "evaluation_dataset = EvaluationDataset.from_list(dataset)\n",
    "result = evaluate(\n",
    "    dataset=evaluation_dataset,\n",
    "    metrics=[LLMContextRecall(), Faithfulness(), FactualCorrectness()],\n",
    "    llm=llm)\n",
    "result"
   ]
  },
  {
   "cell_type": "code",
   "execution_count": null,
   "id": "9e4897c2",
   "metadata": {},
   "outputs": [],
   "source": [
    "{'context_recall': 0.8571, 'faithfulness': 0.8571, 'factual_correctness(mode=f1)': 0.6186} # single query with top 4 docs retrieved\n",
    "{'context_recall': 0.8571, 'faithfulness': 0.8608, 'factual_correctness(mode=f1)': 0.6614} # single query with top 6 docs retrieved\n",
    "{'context_recall': 0.8571, 'faithfulness': 0.7579, 'factual_correctness(mode=f1)': 0.6886} # single query with top 8 docs retrieved\n",
    "{'context_recall': 0.8571, 'faithfulness': 0.7540, 'factual_correctness(mode=f1)': 0.6400} # multi query with top 4 docs retrieved \n"
   ]
  }
 ],
 "metadata": {
  "kernelspec": {
   "display_name": ".venv",
   "language": "python",
   "name": "python3"
  },
  "language_info": {
   "codemirror_mode": {
    "name": "ipython",
    "version": 3
   },
   "file_extension": ".py",
   "mimetype": "text/x-python",
   "name": "python",
   "nbconvert_exporter": "python",
   "pygments_lexer": "ipython3",
   "version": "3.13.5"
  }
 },
 "nbformat": 4,
 "nbformat_minor": 5
}
