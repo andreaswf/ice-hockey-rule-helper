{
 "cells": [
  {
   "cell_type": "code",
   "execution_count": 5,
   "id": "be214828",
   "metadata": {},
   "outputs": [
    {
     "data": {
      "text/plain": [
       "True"
      ]
     },
     "execution_count": 5,
     "metadata": {},
     "output_type": "execute_result"
    }
   ],
   "source": [
    "import os\n",
    "\n",
    "from langchain.chat_models import init_chat_model\n",
    "from langchain_core.messages import HumanMessage, SystemMessage\n",
    "from langchain_core.prompts import ChatPromptTemplate\n",
    "from langchain_community.document_loaders import PyPDFLoader\n",
    "from langchain_text_splitters import RecursiveCharacterTextSplitter\n",
    "\n",
    "# openAI embeddings\n",
    "from langchain_openai.embeddings import OpenAIEmbeddings\n",
    "\n",
    "# vector store\n",
    "from langchain_community.docstore.in_memory import InMemoryDocstore\n",
    "from langchain_community.vectorstores import FAISS\n",
    "\n",
    "# load api keys\n",
    "from dotenv import load_dotenv\n",
    "load_dotenv()"
   ]
  },
  {
   "cell_type": "code",
   "execution_count": 9,
   "id": "502fea71",
   "metadata": {},
   "outputs": [],
   "source": [
    "# document and document loaders\n",
    "file = \"../documents/2025-26_iihf_rulebook.pdf\"\n",
    "\n",
    "loader = PyPDFLoader(file)\n",
    "\n",
    "docs = loader.load()\n",
    "\n",
    "for i, d in enumerate(docs, start=1):\n",
    "    d.metadata['source'] = \"IIHF Rulebook 2025-26\"\n",
    "    d.metadata['page_number'] = i\n",
    "    "
   ]
  },
  {
   "cell_type": "code",
   "execution_count": 26,
   "id": "0acd1444",
   "metadata": {},
   "outputs": [
    {
     "data": {
      "text/plain": [
       "228"
      ]
     },
     "execution_count": 26,
     "metadata": {},
     "output_type": "execute_result"
    }
   ],
   "source": [
    "len(docs)\n",
    "\n"
   ]
  },
  {
   "cell_type": "code",
   "execution_count": 23,
   "id": "60758bf5",
   "metadata": {},
   "outputs": [
    {
     "data": {
      "text/plain": [
       "461"
      ]
     },
     "execution_count": 23,
     "metadata": {},
     "output_type": "execute_result"
    }
   ],
   "source": [
    "text_splitter = RecursiveCharacterTextSplitter(\n",
    "    chunk_size=1600,\n",
    "    chunk_overlap=200,\n",
    "    add_start_index=True\n",
    ")\n",
    "\n",
    "all_splits = text_splitter.split_documents(docs)\n",
    "len(all_splits)"
   ]
  },
  {
   "cell_type": "code",
   "execution_count": 27,
   "id": "aadaccd2",
   "metadata": {},
   "outputs": [],
   "source": [
    "embeddings = OpenAIEmbeddings(model=\"text-embedding-3-large\")"
   ]
  },
  {
   "cell_type": "code",
   "execution_count": 28,
   "id": "0997b26f",
   "metadata": {},
   "outputs": [],
   "source": [
    "# Vector store\n",
    "vector_store = FAISS.from_documents(documents=all_splits, embedding=embeddings)\n",
    "vector_store.save_local(\"vs_faiss\")\n"
   ]
  },
  {
   "cell_type": "code",
   "execution_count": null,
   "id": "e89ce96b",
   "metadata": {},
   "outputs": [],
   "source": [
    "# retriever test\n",
    "\n",
    "retriever = vector_store.as_retriever(search_kwargs={\"k\": 1})\n",
    "\n",
    "results = retriever.batch(\n",
    "    [\n",
    "        \"What is a slashing penalty?\",\n",
    "        \"What is a holding penalty?\",\n",
    "        \"What is a tripping penalty?\"\n",
    "    ]\n",
    ")\n",
    "\n",
    "for query_results in results:\n",
    "    for doc in query_results:\n",
    "        print(doc.page_content)\n",
    "        print(\"-----------------------------\")\n"
   ]
  },
  {
   "cell_type": "code",
   "execution_count": 45,
   "id": "dd6be4f9",
   "metadata": {},
   "outputs": [],
   "source": [
    "retriever = vector_store.as_retriever()\n",
    "llm = init_chat_model(\"gpt-4o-mini\", model_provider=\"openai\")\n",
    "\n",
    "system_template = \"\"\"\n",
    "    You are an ice hockey rule assistant. \n",
    "     - You answer questions about ice hockey rules in a bullet format\n",
    "     - You give citations to used rules and cite used pages\n",
    "     - You answer conceisly and you answer ONLY using he provided context. If answer is unkown, say you don't know.\n",
    "    \"\"\"\n",
    "\n",
    "\n",
    "prompt_template = ChatPromptTemplate.from_messages([\n",
    "    (\"system\", system_template),\n",
    "    (\"system\", \"{context}\"),\n",
    "    (\"user\", \"{question}\"), \n",
    "])\n",
    "\n"
   ]
  },
  {
   "cell_type": "code",
   "execution_count": 50,
   "id": "7dc4ace7",
   "metadata": {},
   "outputs": [],
   "source": [
    "prompt = prompt_template.invoke({\"question\": \"What is a boarding?\", \"context\":\"\"\"RULE 57 TRIPPING\n",
    "57.1. TRIPPING\n",
    "A Player shall not place the stick, or any part of their body in such a manner that causes their opponent to trip or fall.\n",
    "Accidental trips which occur simultaneously with a completed play will not be penalized.\n",
    "Accidental trips occurring simultaneously with or after a stoppage of play will not be penalized.\n",
    "57.2. MINOR PENALTY\n",
    "The Referee shall, at their discretion, assess a minor penalty, based on the severity of the infraction, to any Player who place their\n",
    "stick or any part of their body in such a manner that it shall cause their opponent to trip and fall.\"\"\" })\n",
    "response = llm.invoke(prompt)"
   ]
  },
  {
   "cell_type": "code",
   "execution_count": 51,
   "id": "c45dc7ae",
   "metadata": {},
   "outputs": [
    {
     "name": "stdout",
     "output_type": "stream",
     "text": [
      "I don't know.\n"
     ]
    }
   ],
   "source": [
    "print(response.content)"
   ]
  }
 ],
 "metadata": {
  "kernelspec": {
   "display_name": ".venv",
   "language": "python",
   "name": "python3"
  },
  "language_info": {
   "codemirror_mode": {
    "name": "ipython",
    "version": 3
   },
   "file_extension": ".py",
   "mimetype": "text/x-python",
   "name": "python",
   "nbconvert_exporter": "python",
   "pygments_lexer": "ipython3",
   "version": "3.13.5"
  }
 },
 "nbformat": 4,
 "nbformat_minor": 5
}
