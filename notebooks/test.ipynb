{
 "cells": [
  {
   "cell_type": "code",
   "execution_count": 2,
   "id": "92caac44",
   "metadata": {},
   "outputs": [],
   "source": [
    "from langchain_community.document_loaders import PyPDFLoader\n",
    "from langchain.text_splitter import RecursiveCharacterTextSplitter\n",
    "from langchain_huggingface import HuggingFaceEmbeddings\n",
    "from langchain_community.vectorstores import Chroma\n",
    "from langchain_ollama import OllamaLLM\n",
    "from langchain_core.prompts import ChatPromptTemplate\n",
    "from langchain_core.output_parsers import StrOutputParser\n",
    "\n",
    "import os\n",
    "import glob\n",
    "from pathlib import Path"
   ]
  },
  {
   "cell_type": "code",
   "execution_count": 11,
   "id": "9d42d23e",
   "metadata": {},
   "outputs": [],
   "source": [
    "# get the pdf files path\n",
    "docs_dir = \"../documents\"\n",
    "pdf_files = glob.glob(f\"{docs_dir}/*.pdf\")\n",
    "\n",
    "\n",
    "# add pdf files to docs after loading with pdfLoader.\n",
    "docs = []\n",
    "for f in pdf_files:\n",
    "    docs += PyPDFLoader(f).load()\n",
    "    "
   ]
  },
  {
   "cell_type": "code",
   "execution_count": 24,
   "id": "e4d051bf",
   "metadata": {},
   "outputs": [
    {
     "name": "stdout",
     "output_type": "stream",
     "text": [
      "Coarse chunks: 843 | Final chunks: 1685\n"
     ]
    }
   ],
   "source": [
    "# split text into chunks\n",
    "\n",
    "HEADING_SEPARATORS = [\n",
    "    r\"\\nSITUATION\\s+\\d+\\.\\d+[^\\n]*\\n\",     # Situation Handbook entries\n",
    "    r\"\\nRULE\\s+\\d+[^\\n]*\\n\",               # Rulebook: \"RULE 60 High-sticking\"\n",
    "    r\"\\nSECTION\\s+\\d+[^\\n]*\\n\",            # \"SECTION 08. STICK INFRACTIONS\"\n",
    "    r\"\\n[A-Z][A-Z &/’'–\\-]{4,}\\n\",         # ALL-CAPS headings like \"EQUIPMENT\"\n",
    "    r\"\\n{2,}\",                             # blank lines (paragraph breaks)\n",
    "    r\"\\n\",                                 # single newline\n",
    "    r\" \"                                   # as last resort\n",
    "]\n",
    "\n",
    "coarse_text_splitter = RecursiveCharacterTextSplitter(\n",
    "    chunk_size = 1800,\n",
    "    chunk_overlap=50,\n",
    "    separators=HEADING_SEPARATORS,\n",
    "    keep_separator=True,\n",
    "    is_separator_regex=True\n",
    "    )\n",
    "\n",
    "\n",
    "fine_splitter = RecursiveCharacterTextSplitter(\n",
    "    chunk_size=800,\n",
    "    chunk_overlap=120,\n",
    "    separators=[r\"\\n{2,}\", r\"\\n\", r\" \"],\n",
    "    keep_separator=False,\n",
    "    is_separator_regex=True\n",
    ")\n",
    "\n",
    "coarse_chunks = coarse_text_splitter.split_documents(docs)\n",
    "final_chunks = []\n",
    "for d in coarse_chunks:\n",
    "    # split content of each coarse chunk further\n",
    "    sub_docs = fine_splitter.split_documents([d])\n",
    "    final_chunks.extend(sub_docs)\n",
    "\n",
    "\n",
    "\n",
    "print(f\"Coarse chunks: {len(coarse_chunks)} | Final chunks: {len(final_chunks)}\")\n"
   ]
  },
  {
   "cell_type": "code",
   "execution_count": 25,
   "id": "fc4766f5",
   "metadata": {},
   "outputs": [],
   "source": [
    "# get embeddings\n",
    "embeddings = HuggingFaceEmbeddings(model_name=\"sentence-transformers/all-MiniLM-L6-v2\")"
   ]
  },
  {
   "cell_type": "code",
   "execution_count": 26,
   "id": "0528485a",
   "metadata": {},
   "outputs": [],
   "source": [
    "# Vector Store (Chroma)\n",
    "vector_store = Chroma.from_documents(final_chunks, embeddings, persist_directory=\"chroma\")"
   ]
  },
  {
   "cell_type": "code",
   "execution_count": 29,
   "id": "c72f5769",
   "metadata": {},
   "outputs": [],
   "source": [
    "# retriever\n",
    "retriever = vector_store.as_retriever(search_type=\"similarity\", search_kwargs={\"k\":4})"
   ]
  },
  {
   "cell_type": "code",
   "execution_count": 38,
   "id": "5c3e10b9",
   "metadata": {},
   "outputs": [],
   "source": [
    "llm = OllamaLLM(model=\"llama3.1:8b\")\n",
    "\n",
    "prompt = ChatPromptTemplate.from_template(\n",
    "    \"\"\"You are a hockey rules assistant.\n",
    "    Use the context to answer. Cite sources as (page/section) from metadata.\n",
    "    Question: {question}\n",
    "    Context: {context}\n",
    "    Answer with bullet points and citations.\"\"\"\n",
    ")\n",
    "\n",
    "\n",
    "def format_docs(docs):\n",
    "    \"\"\"Format a list of documents into a readable string with sources and page numbers.\"\"\"\n",
    "    formatted_docs = []\n",
    "\n",
    "    for d in docs:\n",
    "        content = d.page_content\n",
    "        source = d.metadata.get(\"source\", \"?\")\n",
    "        page = d.metadata.get(\"page\", \"?\")\n",
    "\n",
    "        formatted_doc = f\"- {content}\\n  [source: {source}, page {page}]\"\n",
    "        formatted_docs.append(formatted_doc)\n",
    "\n",
    "    return \"\\n\\n\".join(formatted_docs)\n",
    "\n",
    "\n",
    "rag_chain = (\n",
    "    {\"context\": (lambda x: x[\"question\"]) | retriever | format_docs, \"question\": lambda x: x[\"question\"]}\n",
    "    | prompt\n",
    "    | llm\n",
    "    | StrOutputParser()\n",
    ")"
   ]
  },
  {
   "cell_type": "code",
   "execution_count": 39,
   "id": "659d355c",
   "metadata": {},
   "outputs": [
    {
     "name": "stdout",
     "output_type": "stream",
     "text": [
      "Here are the bullet points answering your question:\n",
      "\n",
      "• A player does not necessarily have to play the puck in order for it not to be considered icing.\n",
      "• If a team is making substitutions during an icing situation and has the opportunity to play the puck, but chooses not to do so, icing shall not be called. (Rule 81.6 [page 138])\n",
      "• The potential icing call can be avoided by playing the puck or skating in the direction of the puck at any time, which will continue play without a stoppage. (Rule 81.3 [page 135])\n",
      "\n",
      "Note that the rules emphasize the importance of allowing play to continue and not calling icing if the opposing team has the opportunity to play the puck, rather than requiring them to play it.\n"
     ]
    }
   ],
   "source": [
    "q = \"Does a player have to play the puck if possible during an icing situation?\"\n",
    "print(rag_chain.invoke({\"question\": q}))\n"
   ]
  },
  {
   "cell_type": "markdown",
   "id": "d7c7778a",
   "metadata": {},
   "source": [
    "• If the puck goes outside the playing area directly off a face-off, the face-off remains in the same spot (page 146).\n",
    "• No penalty is assessed to either team for delaying the game if the puck goes outside the playing area directly off a face-off.\n",
    "• If the puck is shot and makes contact with the gloves or body of a player hanging over the bench, or enters the players' bench through an open bench door, the face-off takes place at the nearest face-off spot in the zone from [../documents\\2025-26_iihf_rulebook_30062025-v1.pdf, page 146].\n",
    "\n",
    "Note: There is no specific rule stating where the face-off should take place after a puck out of bounds, other than the conditions mentioned above. The general principle is to give the offending team the least amount of \"territorial advantage\" (page 146)."
   ]
  }
 ],
 "metadata": {
  "kernelspec": {
   "display_name": ".venv",
   "language": "python",
   "name": "python3"
  },
  "language_info": {
   "codemirror_mode": {
    "name": "ipython",
    "version": 3
   },
   "file_extension": ".py",
   "mimetype": "text/x-python",
   "name": "python",
   "nbconvert_exporter": "python",
   "pygments_lexer": "ipython3",
   "version": "3.13.5"
  }
 },
 "nbformat": 4,
 "nbformat_minor": 5
}
