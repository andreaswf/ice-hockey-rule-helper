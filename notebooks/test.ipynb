{
 "cells": [
  {
   "cell_type": "code",
   "execution_count": 2,
   "id": "92caac44",
   "metadata": {},
   "outputs": [],
   "source": [
    "from langchain_community.document_loaders import PyPDFLoader\n",
    "from langchain.text_splitter import RecursiveCharacterTextSplitter\n",
    "from langchain_huggingface import HuggingFaceEmbeddings\n",
    "from langchain_community.vectorstores import Chroma\n",
    "from langchain_ollama import OllamaLLM\n",
    "from langchain_core.prompts import ChatPromptTemplate\n",
    "from langchain_core.output_parsers import StrOutputParser\n",
    "\n",
    "import os\n",
    "import glob\n",
    "from pathlib import Path"
   ]
  },
  {
   "cell_type": "code",
   "execution_count": 11,
   "id": "9d42d23e",
   "metadata": {},
   "outputs": [],
   "source": [
    "# get the pdf files path\n",
    "docs_dir = \"../documents\"\n",
    "pdf_files = glob.glob(f\"{docs_dir}/*.pdf\")\n",
    "\n",
    "\n",
    "# add pdf files to docs after loading with pdfLoader.\n",
    "docs = []\n",
    "for f in pdf_files:\n",
    "    docs += PyPDFLoader(f).load()\n",
    "    "
   ]
  },
  {
   "cell_type": "code",
   "execution_count": null,
   "id": "e4d051bf",
   "metadata": {},
   "outputs": [
    {
     "name": "stdout",
     "output_type": "stream",
     "text": [
      "Split documents into 1429 sub-documents.\n"
     ]
    }
   ],
   "source": [
    "# split text into chunks\n",
    "\n",
    "text_splitter = RecursiveCharacterTextSplitter(chunk_size = 800, chunk_overlap=120)\n",
    "all_splits = text_splitter.split_documents(docs)\n",
    "\n",
    "print(f\"Split documents into {len(all_splits)} sub-documents.\")\n"
   ]
  },
  {
   "cell_type": "code",
   "execution_count": 14,
   "id": "fc4766f5",
   "metadata": {},
   "outputs": [],
   "source": [
    "# get embeddings\n",
    "embeddings = HuggingFaceEmbeddings(model_name=\"sentence-transformers/all-MiniLM-L6-v2\")"
   ]
  },
  {
   "cell_type": "code",
   "execution_count": 15,
   "id": "0528485a",
   "metadata": {},
   "outputs": [],
   "source": [
    "# Vector Store (Chroma)\n",
    "vector_store = Chroma.from_documents(all_splits, embeddings, persist_directory=\"chroma\")"
   ]
  },
  {
   "cell_type": "code",
   "execution_count": 7,
   "id": "c72f5769",
   "metadata": {},
   "outputs": [],
   "source": [
    "# retriever\n",
    "retriever = vector_store.as_retriever(search_type=\"similarity\", search_kwargs={\"k\":4})"
   ]
  },
  {
   "cell_type": "code",
   "execution_count": 16,
   "id": "5c3e10b9",
   "metadata": {},
   "outputs": [],
   "source": [
    "llm = OllamaLLM(model=\"llama3.1:8b\")\n",
    "\n",
    "prompt = ChatPromptTemplate.from_template(\n",
    "    \"\"\"You are a hockey rules assistant.\n",
    "    Use the context to answer. Cite sources as (page/section) from metadata.\n",
    "    Question: {question}\n",
    "    Context: {context}\n",
    "    Answer with bullet points and citations.\"\"\"\n",
    ")\n",
    "\n",
    "\n",
    "def format_docs(docs):\n",
    "    return \"\\n\\n\".join(\n",
    "        f\"- {d.page_content}\\n  [source: {d.metadata.get('source','?')}, page {d.metadata.get('page','?')}]\"\n",
    "        for d in docs\n",
    "    )\n",
    "\n",
    "rag_chain = (\n",
    "    {\"context\": (lambda x: x[\"question\"]) | retriever | format_docs, \"question\": lambda x: x[\"question\"]}\n",
    "    | prompt\n",
    "    | llm\n",
    "    | StrOutputParser()\n",
    ")"
   ]
  },
  {
   "cell_type": "code",
   "execution_count": 20,
   "id": "659d355c",
   "metadata": {},
   "outputs": [
    {
     "name": "stdout",
     "output_type": "stream",
     "text": [
      "• If the puck goes outside the playing area directly off a face-off, the face-off remains in the same spot (page 146).\n",
      "• No penalty is assessed to either team for delaying the game if the puck goes outside the playing area directly off a face-off.\n",
      "• If the puck is shot and makes contact with the gloves or body of a player hanging over the bench, or enters the players' bench through an open bench door, the face-off takes place at the nearest face-off spot in the zone from [../documents\\2025-26_iihf_rulebook_30062025-v1.pdf, page 146].\n",
      "\n",
      "Note: There is no specific rule stating where the face-off should take place after a puck out of bounds, other than the conditions mentioned above. The general principle is to give the offending team the least amount of \"territorial advantage\" (page 146).\n"
     ]
    }
   ],
   "source": [
    "q = \"Where is the faceoff taken after a puck out of bounds?\"\n",
    "print(rag_chain.invoke({\"question\": q}))\n"
   ]
  }
 ],
 "metadata": {
  "kernelspec": {
   "display_name": ".venv",
   "language": "python",
   "name": "python3"
  },
  "language_info": {
   "codemirror_mode": {
    "name": "ipython",
    "version": 3
   },
   "file_extension": ".py",
   "mimetype": "text/x-python",
   "name": "python",
   "nbconvert_exporter": "python",
   "pygments_lexer": "ipython3",
   "version": "3.13.5"
  }
 },
 "nbformat": 4,
 "nbformat_minor": 5
}
